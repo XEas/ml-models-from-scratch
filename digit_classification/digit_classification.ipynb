{
 "cells": [
  {
   "cell_type": "code",
   "execution_count": 11,
   "id": "10c1b3f0",
   "metadata": {},
   "outputs": [],
   "source": [
    "import numpy as np"
   ]
  },
  {
   "cell_type": "code",
   "execution_count": 2,
   "id": "4e097dfc",
   "metadata": {},
   "outputs": [],
   "source": [
    "# importing MNIST dataset\n",
    "from tensorflow.keras.datasets import mnist\n",
    "(x_train, y_train), (x_test, y_test) = mnist.load_data()"
   ]
  },
  {
   "cell_type": "code",
   "execution_count": 59,
   "id": "612dce0d",
   "metadata": {},
   "outputs": [],
   "source": [
    "# labels one-hot encoding\n",
    "y_train_one_hot = np.zeros((y_train.shape[0], 10))\n",
    "for i in range(y_train.shape[0]):\n",
    "    y_train_one_hot[i][y_train[i]] = 1\n",
    "y_train = y_train_one_hot\n",
    "\n",
    "y_test_one_hot = np.zeros((y_test.shape[0], 10))\n",
    "for i in range(y_test.shape[0]):\n",
    "    y_test_one_hot[i][y_test[i]] = 1\n",
    "y_test = y_test_one_hot"
   ]
  },
  {
   "cell_type": "code",
   "execution_count": 6,
   "id": "f2f1c22d",
   "metadata": {},
   "outputs": [],
   "source": [
    "# flatten 28x28 images to 1x784 arrays\n",
    "x_train = x_train.reshape(60000, 784)\n",
    "x_test = x_test.reshape(10000, 784)"
   ]
  },
  {
   "cell_type": "code",
   "execution_count": 18,
   "id": "4d737aea",
   "metadata": {},
   "outputs": [],
   "source": [
    "def relu(x):\n",
    "    \"\"\"\n",
    "    Takes relu funcion of an array of values\n",
    "\n",
    "    Parameters:\n",
    "    - x: numpy array, input\n",
    "\n",
    "    Returns:\n",
    "    - relu(x): float, relu function applied to x\n",
    "    \"\"\"\n",
    "    return np.maximum(x, 0)"
   ]
  },
  {
   "cell_type": "code",
   "execution_count": 152,
   "id": "344a786d",
   "metadata": {},
   "outputs": [],
   "source": [
    "def sigmoid(x):\n",
    "    \"\"\"\n",
    "    Takes sigmoid funcion of an array of values\n",
    "\n",
    "    Parameters:\n",
    "    - x: numpy array, input\n",
    "\n",
    "    Returns:\n",
    "    - sigmoid(x): float, sigmoid function applied to x\n",
    "    \"\"\"\n",
    "    exp_values = np.exp(-np.clip(x, -700, 700))\n",
    "    return 1 / (1 + exp_values)"
   ]
  },
  {
   "cell_type": "code",
   "execution_count": 114,
   "id": "103b8994",
   "metadata": {},
   "outputs": [],
   "source": [
    "def softmax(x):\n",
    "    exp_x = np.exp(x - np.max(x, axis=1, keepdims=True))\n",
    "    return exp_x / np.sum(exp_x, axis=1, keepdims=True)"
   ]
  },
  {
   "cell_type": "code",
   "execution_count": 195,
   "id": "859030f7",
   "metadata": {},
   "outputs": [],
   "source": [
    "def get_accuracy(y, y_pred):\n",
    "    # Convert one-hot encoded predictions to class labels\n",
    "    pred_labels = np.argmax(y_pred, axis=1)\n",
    "    \n",
    "    # Convert one-hot encoded true labels to class labels\n",
    "    true_labels = np.argmax(y, axis=1)\n",
    "\n",
    "    # Count the number of correct predictions\n",
    "    correct = np.sum(pred_labels == true_labels)\n",
    "\n",
    "    # Calculate accuracy\n",
    "    accuracy = correct / y.shape[0]\n",
    "    \n",
    "    return accuracy"
   ]
  },
  {
   "cell_type": "code",
   "execution_count": 196,
   "id": "301ea38c",
   "metadata": {},
   "outputs": [],
   "source": [
    "# sparse categorical crossentropy loss\n",
    "def sparse_categorical_crossentropy(y, y_hat):\n",
    "    epsilon = 1e-15\n",
    "    y_pred = np.clip(y_hat, epsilon, 1 - epsilon)\n",
    "    return -np.sum(y * np.log(y_hat), axis=1)"
   ]
  },
  {
   "cell_type": "code",
   "execution_count": 197,
   "id": "3a9e29f2",
   "metadata": {},
   "outputs": [],
   "source": [
    "def mean_squared_error(y_true, y_pred):\n",
    "    \"\"\"\n",
    "    Compute the Mean Squared Error (MSE) between the true and predicted values.\n",
    "\n",
    "    Parameters:\n",
    "    - y_true: numpy array, true values\n",
    "    - y_pred: numpy array, predicted values\n",
    "\n",
    "    Returns:\n",
    "    - mse: float, mean squared error\n",
    "    \"\"\"\n",
    "    # Ensure both y_true and y_pred are numpy arrays\n",
    "    y_true = np.array(y_true)\n",
    "    y_pred = np.array(y_pred)\n",
    "\n",
    "    # Check if the shapes match\n",
    "    if y_true.shape != y_pred.shape:\n",
    "        raise ValueError(\"Shapes of y_true and y_pred must match.\")\n",
    "\n",
    "    # Compute the mean squared error\n",
    "    mse = np.mean((y_true - y_pred)**2)\n",
    "    \n",
    "    return mse"
   ]
  },
  {
   "cell_type": "code",
   "execution_count": 198,
   "id": "94b66f64",
   "metadata": {},
   "outputs": [],
   "source": [
    "def shuffle_data(x_train, y_train):\n",
    "    num_samples = x_train.shape[0]\n",
    "    indices = np.arange(num_samples)\n",
    "    np.random.shuffle(indices)\n",
    "\n",
    "    return x_train[indices], y_train[indices]"
   ]
  },
  {
   "cell_type": "code",
   "execution_count": 199,
   "id": "406ea92c",
   "metadata": {},
   "outputs": [],
   "source": [
    "def forward_prop(X, W1, b1, W2, b2, W3, b3):\n",
    "    # Input to hidden layer 1\n",
    "    z1 = np.dot(X, W1) + b1\n",
    "    a1 = sigmoid(z1)\n",
    "\n",
    "    # Hidden layer 1 to hidden layer 2\n",
    "    z2 = np.dot(a1, W2) + b2\n",
    "    a2 = sigmoid(z2)\n",
    "\n",
    "    # Hidden layer 2 to output layer\n",
    "    z3 = np.dot(a2, W3) + b3\n",
    "    a3 = softmax(z3)\n",
    "\n",
    "    return a1, a2, a3"
   ]
  },
  {
   "cell_type": "code",
   "execution_count": 200,
   "id": "b42d75c7",
   "metadata": {},
   "outputs": [],
   "source": [
    "def sigmoid_derivative(x):\n",
    "    return sigmoid(x) * (1 - sigmoid(x))\n",
    "\n",
    "def back_prop(x, y, a1, a2, a3, W1, b1, W2, b2, W3, b3, learning_rate):\n",
    "    a3_error = a3 - y\n",
    "    a2_error = np.dot(a3_error, W3.T) * sigmoid_derivative(a2)\n",
    "    a1_error = np.dot(a2_error, W2.T) * sigmoid_derivative(a1)\n",
    "\n",
    "    W3 -= learning_rate * np.dot(a2.T, a3_error)\n",
    "    b3 -= learning_rate * np.sum(a3_error, axis=0, keepdims=True)\n",
    "    \n",
    "    W2 -= learning_rate * np.dot(a1.T, a2_error)\n",
    "    b2 -= learning_rate * np.sum(a2_error, axis=0, keepdims=True)\n",
    "\n",
    "    W1 -= learning_rate * np.dot(x.T, a1_error)\n",
    "    b1 -= learning_rate * np.sum(a1_error, axis=0, keepdims=True)\n",
    "\n",
    "    return W1, b1, W2, b2, W3, b3"
   ]
  },
  {
   "cell_type": "code",
   "execution_count": 209,
   "id": "da267425",
   "metadata": {},
   "outputs": [],
   "source": [
    "# define random weights on interval [0, 1]\n",
    "np.random.seed(42)\n",
    "W1 = np.random.rand(784, 16)\n",
    "W2 = np.random.rand(16, 16)\n",
    "W3 = np.random.rand(16, 10)\n",
    "b1 = np.zeros((1, 16))\n",
    "b2 = np.zeros((1, 16))\n",
    "b3 = np.zeros((1, 10))"
   ]
  },
  {
   "cell_type": "code",
   "execution_count": 210,
   "id": "f8e6b81c",
   "metadata": {},
   "outputs": [],
   "source": [
    "# define hyperparameters\n",
    "batch_size = 60\n",
    "learning_rate = 0.01\n",
    "epochs = 20"
   ]
  },
  {
   "cell_type": "code",
   "execution_count": 211,
   "id": "5dffbf69",
   "metadata": {},
   "outputs": [
    {
     "name": "stdout",
     "output_type": "stream",
     "text": [
      "Epoch: 0 Mean Squared Error: 0.05671419457540417 Accuracy: 0.5558666666666666\n",
      "Epoch: 1 Mean Squared Error: 0.05019705056934677 Accuracy: 0.6384833333333333\n",
      "Epoch: 2 Mean Squared Error: 0.04275700383200634 Accuracy: 0.6656666666666666\n",
      "Epoch: 3 Mean Squared Error: 0.03894177478997454 Accuracy: 0.72145\n",
      "Epoch: 4 Mean Squared Error: 0.03660823134682871 Accuracy: 0.7381833333333333\n",
      "Epoch: 5 Mean Squared Error: 0.03406195379407588 Accuracy: 0.7653333333333333\n",
      "Epoch: 6 Mean Squared Error: 0.030586435989880277 Accuracy: 0.7880666666666667\n",
      "Epoch: 7 Mean Squared Error: 0.029083622007798137 Accuracy: 0.7980666666666667\n",
      "Epoch: 8 Mean Squared Error: 0.028067196596593028 Accuracy: 0.8063333333333333\n",
      "Epoch: 9 Mean Squared Error: 0.026807817865211216 Accuracy: 0.8133333333333334\n",
      "Epoch: 10 Mean Squared Error: 0.026529086538265318 Accuracy: 0.8189666666666666\n",
      "Epoch: 11 Mean Squared Error: 0.028068902298954302 Accuracy: 0.8086666666666666\n",
      "Epoch: 12 Mean Squared Error: 0.028665834461659233 Accuracy: 0.7969666666666667\n",
      "Epoch: 13 Mean Squared Error: 0.028120789248118908 Accuracy: 0.804\n",
      "Epoch: 14 Mean Squared Error: 0.028466502927508554 Accuracy: 0.80465\n",
      "Epoch: 15 Mean Squared Error: 0.028868563506771763 Accuracy: 0.7999666666666667\n",
      "Epoch: 16 Mean Squared Error: 0.028924154919254815 Accuracy: 0.7994333333333333\n",
      "Epoch: 17 Mean Squared Error: 0.029428409516055715 Accuracy: 0.79885\n",
      "Epoch: 18 Mean Squared Error: 0.030523259151545003 Accuracy: 0.79045\n",
      "Epoch: 19 Mean Squared Error: 0.033211824436545044 Accuracy: 0.7729333333333334\n"
     ]
    }
   ],
   "source": [
    "for epoch in range(epochs):\n",
    "    x_train, y_train = shuffle_data(x_train, y_train)\n",
    "\n",
    "    for i in range(0, x_train.shape[0], batch_size):\n",
    "        x_batch = x_train[i: i + batch_size]\n",
    "        y_batch = y_train[i: i + batch_size]\n",
    "\n",
    "        a1, a2, a3 = forward_prop(x_batch, W1, b1, W2, b2, W3, b3)\n",
    "        W1, b1, W2, b2, W3, b3 = back_prop(x_batch, y_batch, a1, a2, a3, W1, b1, W2, b2, W3, b3, learning_rate)\n",
    "\n",
    "    # Calculate the mean squared error and accuracy over the entire training dataset\n",
    "    _, _, a3 = forward_prop(x_train, W1, b1, W2, b2, W3, b3)\n",
    "    mse = mean_squared_error(y_train, a3)\n",
    "    accuracy = get_accuracy(y_train, a3)\n",
    "    print(f\"Epoch: {epoch} Mean Squared Error: {mse} Accuracy: {accuracy}\")"
   ]
  },
  {
   "cell_type": "code",
   "execution_count": 212,
   "id": "d740f880",
   "metadata": {},
   "outputs": [
    {
     "name": "stdout",
     "output_type": "stream",
     "text": [
      "0.7752\n"
     ]
    }
   ],
   "source": [
    "_, _, y_pred = forward_prop(x_test, W1, b1, W2, b2, W3, b3)\n",
    "print(get_accuracy(y_test, y_pred))"
   ]
  },
  {
   "cell_type": "code",
   "execution_count": 213,
   "id": "f88fa8c4",
   "metadata": {},
   "outputs": [
    {
     "name": "stdout",
     "output_type": "stream",
     "text": [
      "0.7729333333333334\n"
     ]
    }
   ],
   "source": [
    "_, _, y_pred = forward_prop(x_train, W1, b1, W2, b2, W3, b3)\n",
    "print(get_accuracy(y_train, y_pred))"
   ]
  },
  {
   "cell_type": "code",
   "execution_count": null,
   "id": "5b553e3a",
   "metadata": {},
   "outputs": [],
   "source": []
  }
 ],
 "metadata": {
  "kernelspec": {
   "display_name": "Python 3 (ipykernel)",
   "language": "python",
   "name": "python3"
  },
  "language_info": {
   "codemirror_mode": {
    "name": "ipython",
    "version": 3
   },
   "file_extension": ".py",
   "mimetype": "text/x-python",
   "name": "python",
   "nbconvert_exporter": "python",
   "pygments_lexer": "ipython3",
   "version": "3.11.4"
  }
 },
 "nbformat": 4,
 "nbformat_minor": 5
}
